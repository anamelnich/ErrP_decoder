{
 "cells": [
  {
   "cell_type": "code",
   "execution_count": 1,
   "metadata": {},
   "outputs": [],
   "source": [
    "   %load_ext autoreload\n",
    "   %autoreload 2"
   ]
  },
  {
   "cell_type": "code",
   "execution_count": null,
   "metadata": {},
   "outputs": [],
   "source": [
    "\n",
    "from ErrP_decoder.data_io import select_eeg_files, load_selected_files\n",
    "\n",
    "file_paths = select_eeg_files()\n",
    "\n",
    "datasets = load_selected_files(file_paths)\n",
    "\n",
    "for ds in datasets:\n",
    "    print(\"Data shape:\", ds.data.shape)\n",
    "    print(\"Info:\", ds.info)"
   ]
  },
  {
   "cell_type": "code",
   "execution_count": 3,
   "metadata": {},
   "outputs": [],
   "source": [
    "from ErrP_decoder.data_io import set_params\n",
    "for ds in datasets:\n",
    "    cfg = set_params(ds.info,config_path=\"../configs/default.yaml\")"
   ]
  },
  {
   "cell_type": "code",
   "execution_count": null,
   "metadata": {},
   "outputs": [],
   "source": [
    "from ErrP_decoder.data_io import preprocess_dataset\n",
    "for ds in datasets:\n",
    "    ds = preprocess_dataset(ds, cfg)\n",
    "\n",
    "for ds in datasets:\n",
    "    neu = sum(ds.trig['typ'] == 0)\n",
    "    pos = sum(ds.trig['typ'] == 1)\n",
    "    neg = sum(ds.trig['typ'] == 2)\n",
    "    print(neu)\n",
    "    print(pos)\n",
    "    print(neg)\n",
    "    \n"
   ]
  },
  {
   "cell_type": "code",
   "execution_count": null,
   "metadata": {},
   "outputs": [],
   "source": [
    "from ErrP_decoder.data_io import bandpass_filter\n",
    "from ErrP_decoder.plots import plot_eeg_interactive\n",
    "\n",
    "for ds in datasets:\n",
    "    filtered_eeg = bandpass_filter(ds.eeg,cfg)\n",
    "    plot_eeg_interactive(filtered_eeg, cfg)\n",
    "    ds.eeg_filt = filtered_eeg"
   ]
  },
  {
   "cell_type": "code",
   "execution_count": 6,
   "metadata": {},
   "outputs": [],
   "source": [
    "from ErrP_decoder.data_io import epoch_data\n",
    "for ds in datasets:\n",
    "    ds.epochs, ds.epoch_labels = epoch_data(ds.eeg_filt,cfg,ds.trig)\n",
    "    # epochs (768,32,200)\n",
    "    # epoch_labels (200,)"
   ]
  },
  {
   "cell_type": "code",
   "execution_count": 7,
   "metadata": {},
   "outputs": [],
   "source": [
    "import numpy as np\n",
    "\n",
    "all_epochs = []\n",
    "all_labels = []\n",
    "for ds in datasets:\n",
    "    all_epochs.append(ds.epochs)\n",
    "    all_labels.append(ds.epoch_labels)\n",
    "# Concatenate along the epochs axis (axis=2 for epochs, axis=0 for labels)\n",
    "epochs_combined = np.concatenate(all_epochs, axis=2)\n",
    "labels_combined = np.concatenate(all_labels, axis=0)"
   ]
  },
  {
   "cell_type": "code",
   "execution_count": null,
   "metadata": {},
   "outputs": [],
   "source": [
    "from ErrP_decoder.plots import plot_erp\n",
    "plot_erp(epochs_combined, labels_combined, cfg, 'CZ')\n",
    "plot_erp(epochs_combined, labels_combined, cfg, 'FCZ')\n",
    "plot_erp(epochs_combined, labels_combined, cfg, 'FZ')\n",
    "plot_erp(epochs_combined, labels_combined, cfg, 'PZ')\n",
    "plot_erp(epochs_combined, labels_combined, cfg, 'CPZ')"
   ]
  },
  {
   "cell_type": "code",
   "execution_count": 9,
   "metadata": {},
   "outputs": [],
   "source": [
    "from ErrP_decoder.data_io import balance_runs\n",
    "for ds in datasets:\n",
    "    ds.epochs_balanced, ds.epoch_labels_balanced = balance_runs(ds.epochs,ds.epoch_labels)"
   ]
  },
  {
   "cell_type": "code",
   "execution_count": 11,
   "metadata": {},
   "outputs": [
    {
     "name": "stdout",
     "output_type": "stream",
     "text": [
      "(50,)\n",
      "(66,)\n",
      "(80,)\n",
      "(58,)\n",
      "(52,)\n"
     ]
    }
   ],
   "source": [
    "for ds in datasets:\n",
    "    print(ds.epoch_labels_balanced.shape)\n"
   ]
  },
  {
   "cell_type": "code",
   "execution_count": 18,
   "metadata": {},
   "outputs": [],
   "source": [
    "\n",
    "all_epochs = []\n",
    "all_labels = []\n",
    "run_labels = []\n",
    "\n",
    "for i, ds in enumerate(datasets):\n",
    "    all_epochs.append(ds.epochs_balanced)              # shape: (samples, channels, trials)\n",
    "    all_labels.append(ds.epoch_labels_balanced)        # shape: (trials,)\n",
    "\n",
    "    n_trials = ds.epoch_labels_balanced.shape[0]\n",
    "    run_labels.append(np.full(n_trials, i))            # start from 0\n",
    "\n",
    "# Concatenate everything\n",
    "training_data   = np.concatenate(all_epochs, axis=2)   # shape: (768,32,306)\n",
    "training_labels = np.concatenate(all_labels, axis=0)   # shape: (306,)\n",
    "run_labels      = np.concatenate(run_labels, axis=0)   # shape: (306,)\n",
    "\n"
   ]
  },
  {
   "cell_type": "code",
   "execution_count": 20,
   "metadata": {},
   "outputs": [],
   "source": [
    "from ErrP_decoder.modeling import get_cca_spatialfilter\n",
    "\n",
    "spatial_filter = get_cca_spatialfilter(training_data, training_labels, \n",
    "                                       n_components=cfg['spatial_filter']['n_comp']) # shape (32,2)\n",
    "\n"
   ]
  },
  {
   "cell_type": "code",
   "execution_count": null,
   "metadata": {},
   "outputs": [],
   "source": [
    "\n",
    "from ErrP_decoder.modeling import apply_spatial_filter\n",
    "filtered_data = apply_spatial_filter(training_data, spatial_filter) # shape: (samples, n_components, trials)"
   ]
  }
 ],
 "metadata": {
  "kernelspec": {
   "display_name": "ErrP",
   "language": "python",
   "name": "python3"
  },
  "language_info": {
   "codemirror_mode": {
    "name": "ipython",
    "version": 3
   },
   "file_extension": ".py",
   "mimetype": "text/x-python",
   "name": "python",
   "nbconvert_exporter": "python",
   "pygments_lexer": "ipython3",
   "version": "3.9.23"
  }
 },
 "nbformat": 4,
 "nbformat_minor": 2
}
