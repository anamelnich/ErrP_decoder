{
 "cells": [
  {
   "cell_type": "code",
   "execution_count": null,
   "metadata": {},
   "outputs": [],
   "source": [
    "\n",
    "from ErrP_decoder.data_io import select_eeg_files, load_selected_files\n",
    "\n",
    "file_paths = select_eeg_files()\n",
    "\n",
    "datasets = load_selected_files(file_paths)\n",
    "\n",
    "for ds in datasets:\n",
    "    print(\"Data shape:\", ds.data.shape)\n",
    "    print(\"Info:\", ds.info)"
   ]
  },
  {
   "cell_type": "code",
   "execution_count": 2,
   "metadata": {},
   "outputs": [],
   "source": [
    "from ErrP_decoder.data_io import set_params\n",
    "for ds in datasets:\n",
    "    cfg = set_params(ds.info,config_path=\"../configs/default.yaml\")"
   ]
  },
  {
   "cell_type": "code",
   "execution_count": null,
   "metadata": {},
   "outputs": [],
   "source": [
    "from ErrP_decoder.data_io import preprocess_dataset\n",
    "for ds in datasets:\n",
    "    ds = preprocess_dataset(ds, cfg)\n",
    "\n",
    "for ds in datasets:\n",
    "    neu = sum(ds.trig['typ'] == 0)\n",
    "    pos = sum(ds.trig['typ'] == 1)\n",
    "    neg = sum(ds.trig['typ'] == 2)\n",
    "    print(neu)\n",
    "    print(pos)\n",
    "    print(neg)\n",
    "    \n"
   ]
  },
  {
   "cell_type": "code",
   "execution_count": null,
   "metadata": {},
   "outputs": [],
   "source": [
    "from ErrP_decoder.data_io import bandpass_filter\n",
    "from ErrP_decoder.plots import plot_eeg_interactive\n",
    "\n",
    "for ds in datasets:\n",
    "    filtered_eeg = bandpass_filter(ds.eeg,cfg)\n",
    "    plot_eeg_interactive(filtered_eeg, cfg)\n",
    "    ds.eeg_filt = filtered_eeg\n",
    "\n"
   ]
  }
 ],
 "metadata": {
  "kernelspec": {
   "display_name": "ErrP",
   "language": "python",
   "name": "python3"
  },
  "language_info": {
   "codemirror_mode": {
    "name": "ipython",
    "version": 3
   },
   "file_extension": ".py",
   "mimetype": "text/x-python",
   "name": "python",
   "nbconvert_exporter": "python",
   "pygments_lexer": "ipython3",
   "version": "3.9.23"
  }
 },
 "nbformat": 4,
 "nbformat_minor": 2
}
