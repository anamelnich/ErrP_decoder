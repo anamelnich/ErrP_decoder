{
 "cells": [
  {
   "cell_type": "code",
   "execution_count": 31,
   "metadata": {},
   "outputs": [],
   "source": [
    "   %load_ext autoreload\n",
    "   %autoreload 2"
   ]
  },
  {
   "cell_type": "code",
   "execution_count": 32,
   "metadata": {},
   "outputs": [],
   "source": [
    "\n",
    "from ErrP_decoder.data_io import select_eeg_files, load_selected_files\n",
    "\n",
    "file_paths = select_eeg_files()\n",
    "\n",
    "datasets = load_selected_files(file_paths)\n",
    "\n",
    "for ds in datasets:\n",
    "    print(\"Data shape:\", ds.data.shape)\n",
    "    print(\"Info:\", ds.info)"
   ]
  },
  {
   "cell_type": "code",
   "execution_count": 33,
   "metadata": {},
   "outputs": [],
   "source": [
    "from ErrP_decoder.data_io import set_params\n",
    "for ds in datasets:\n",
    "    cfg = set_params(ds.info,config_path=\"../configs/default.yaml\")"
   ]
  },
  {
   "cell_type": "code",
   "execution_count": 34,
   "metadata": {},
   "outputs": [],
   "source": [
    "from ErrP_decoder.data_io import preprocess_dataset\n",
    "for ds in datasets:\n",
    "    ds = preprocess_dataset(ds, cfg)\n",
    "\n",
    "for ds in datasets:\n",
    "    neu = sum(ds.trig['typ'] == 0)\n",
    "    pos = sum(ds.trig['typ'] == 1)\n",
    "    neg = sum(ds.trig['typ'] == 2)\n",
    "    print(neu)\n",
    "    print(pos)\n",
    "    print(neg)\n",
    "    \n"
   ]
  },
  {
   "cell_type": "code",
   "execution_count": 35,
   "metadata": {},
   "outputs": [],
   "source": [
    "from ErrP_decoder.data_io import bandpass_filter\n",
    "from ErrP_decoder.plots import plot_eeg_interactive\n",
    "\n",
    "for ds in datasets:\n",
    "    filtered_eeg = bandpass_filter(ds.eeg,cfg)\n",
    "    plot_eeg_interactive(filtered_eeg, cfg)\n",
    "    ds.eeg_filt = filtered_eeg"
   ]
  },
  {
   "cell_type": "code",
   "execution_count": 36,
   "metadata": {},
   "outputs": [],
   "source": [
    "from ErrP_decoder.data_io import epoch_data\n",
    "for ds in datasets:\n",
    "    ds.epochs, ds.epoch_labels = epoch_data(ds.eeg_filt,cfg,ds.trig)\n",
    "    ds.epochs = ds.epochs.transpose(1, 2, 0)\n",
    "    # epochs (768,32,200)\n",
    "    # epoch_labels (200,)"
   ]
  },
  {
   "cell_type": "code",
   "execution_count": 37,
   "metadata": {},
   "outputs": [],
   "source": [
    "import numpy as np\n",
    "\n",
    "all_epochs = []\n",
    "all_labels = []\n",
    "for ds in datasets:\n",
    "    all_epochs.append(ds.epochs)\n",
    "    all_labels.append(ds.epoch_labels)\n",
    "# Concatenate along the epochs axis (axis=2 for epochs, axis=0 for labels)\n",
    "epochs_combined = np.concatenate(all_epochs, axis=2)\n",
    "labels_combined = np.concatenate(all_labels, axis=0)"
   ]
  },
  {
   "cell_type": "code",
   "execution_count": 38,
   "metadata": {},
   "outputs": [],
   "source": [
    "from ErrP_decoder.plots import plot_erp\n",
    "plot_erp(epochs_combined, labels_combined, cfg, 'CZ')\n",
    "plot_erp(epochs_combined, labels_combined, cfg, 'FCZ')\n",
    "plot_erp(epochs_combined, labels_combined, cfg, 'FZ')\n",
    "plot_erp(epochs_combined, labels_combined, cfg, 'PZ')\n",
    "plot_erp(epochs_combined, labels_combined, cfg, 'CPZ')"
   ]
  },
  {
   "cell_type": "code",
   "execution_count": 39,
   "metadata": {},
   "outputs": [],
   "source": [
    "from ErrP_decoder.data_io import balance_runs\n",
    "for ds in datasets:\n",
    "    ds.epochs_balanced, ds.epoch_labels_balanced = balance_runs(ds.epochs,ds.epoch_labels)"
   ]
  },
  {
   "cell_type": "code",
   "execution_count": 40,
   "metadata": {},
   "outputs": [],
   "source": [
    "for ds in datasets:\n",
    "    print(ds.epochs_balanced.shape)\n"
   ]
  },
  {
   "cell_type": "code",
   "execution_count": 41,
   "metadata": {},
   "outputs": [],
   "source": [
    "\n",
    "all_epochs = []\n",
    "all_labels = []\n",
    "run_labels = []\n",
    "\n",
    "for i, ds in enumerate(datasets):\n",
    "    all_epochs.append(ds.epochs_balanced)              # shape: (samples, channels, trials)\n",
    "    all_labels.append(ds.epoch_labels_balanced)        # shape: (trials,)\n",
    "\n",
    "    n_trials = ds.epoch_labels_balanced.shape[0]\n",
    "    run_labels.append(np.full(n_trials, i))            # start from 0\n",
    "\n",
    "training_epochs   = np.concatenate(all_epochs, axis=2)   # shape: (768,32,306)\n",
    "training_labels = np.concatenate(all_labels, axis=0)   # shape: (306,)\n",
    "training_run_labels = np.concatenate(run_labels, axis=0)   # shape: (306,)\n",
    "train_data = {\n",
    "    'data' : training_epochs,\n",
    "    'labels' : training_labels,\n",
    "    'run' : training_run_labels\n",
    "}\n",
    "\n"
   ]
  },
  {
   "cell_type": "code",
   "execution_count": 42,
   "metadata": {},
   "outputs": [],
   "source": [
    "all_epochs = []\n",
    "all_labels = []\n",
    "run_labels = []\n",
    "\n",
    "for i, ds in enumerate(datasets):\n",
    "    all_epochs.append(ds.epochs)              # shape: (samples, channels, trials)\n",
    "    all_labels.append(ds.epoch_labels)        # shape: (trials,)\n",
    "\n",
    "    n_trials = ds.epoch_labels.shape[0]\n",
    "    run_labels.append(np.full(n_trials, i))   # start from 0\n",
    "\n",
    "test_epochs   = np.concatenate(all_epochs, axis=2)   # shape: (768,32,1000)\n",
    "test_labels = np.concatenate(all_labels, axis=0)   # shape: (1000,)\n",
    "test_run_labels = np.concatenate(run_labels, axis=0)   # shape: (1000,)\n",
    "test_data = {\n",
    "    'data' : test_epochs,\n",
    "    'labels' : test_labels,\n",
    "    'run' : test_run_labels\n",
    "}"
   ]
  },
  {
   "cell_type": "code",
   "execution_count": 43,
   "metadata": {},
   "outputs": [],
   "source": [
    "from ErrP_decoder.modeling import leave_one_run_out_cv\n",
    "posteriors = leave_one_run_out_cv(train_data, test_data, cfg)"
   ]
  },
  {
   "cell_type": "code",
   "execution_count": 45,
   "metadata": {},
   "outputs": [],
   "source": [
    "from ErrP_decoder.evaluation import evaluate_classifier\n",
    "evaluate_classifier(test_data['labels'], posteriors)"
   ]
  },
  {
   "cell_type": "code",
   "execution_count": null,
   "metadata": {},
   "outputs": [],
   "source": [
    "from ErrP_decoder.evaluation import plot_posteriors_by_class\n",
    "plot_posteriors_by_class(test_data['labels'], posteriors, \n",
    "                         class_names=['No Feedback', 'Negative Feedback'], bins=20)"
   ]
  },
  {
   "cell_type": "markdown",
   "metadata": {},
   "source": [
    "                            COMPUTE DECODER FUNCTIONS TESTING BELOW"
   ]
  },
  {
   "cell_type": "code",
   "execution_count": 29,
   "metadata": {},
   "outputs": [],
   "source": [
    "from ErrP_decoder.modeling import compute_decoder\n",
    "\n",
    "decoder = decoder = compute_decoder(training_data, training_labels, cfg)"
   ]
  },
  {
   "cell_type": "code",
   "execution_count": 12,
   "metadata": {},
   "outputs": [],
   "source": [
    "from ErrP_decoder.modeling import get_cca_spatialfilter\n",
    "\n",
    "spatial_filter = get_cca_spatialfilter(training_data, training_labels, \n",
    "                                       n_components=cfg['spatial_filter']['n_comp']) # shape (32,2)\n",
    "\n"
   ]
  },
  {
   "cell_type": "code",
   "execution_count": 13,
   "metadata": {},
   "outputs": [],
   "source": [
    "\n",
    "from ErrP_decoder.modeling import apply_spatial_filter\n",
    "filtered_data = apply_spatial_filter(training_data, spatial_filter) # shape: (samples, n_components, trials)"
   ]
  },
  {
   "cell_type": "code",
   "execution_count": 14,
   "metadata": {},
   "outputs": [],
   "source": [
    "from ErrP_decoder.modeling import resample_epochs\n",
    "resampled = resample_epochs(filtered_data,cfg) # shape (20, 3, 306)\n"
   ]
  },
  {
   "cell_type": "code",
   "execution_count": 26,
   "metadata": {},
   "outputs": [],
   "source": [
    "n_samples, n_comp, n_trials = resampled.shape\n",
    "X = resampled.reshape(n_samples * n_comp, n_trials).T # shape: (samples, features) e.g. (306,60)\n",
    "y = training_labels # shape: (samples, ) e.g. (306,)\n"
   ]
  },
  {
   "cell_type": "code",
   "execution_count": null,
   "metadata": {},
   "outputs": [],
   "source": [
    "from sklearn.discriminant_analysis import LinearDiscriminantAnalysis\n",
    "lda = LinearDiscriminantAnalysis()\n",
    "lda.fit(X, y)\n",
    "\n",
    "print(\"LDA coefficients shape:\", lda.coef_.shape)       # (n_classes-1, n_features)\n",
    "print(\"LDA intercepts shape:\", lda.intercept_.shape)"
   ]
  }
 ],
 "metadata": {
  "kernelspec": {
   "display_name": "ErrP",
   "language": "python",
   "name": "python3"
  },
  "language_info": {
   "codemirror_mode": {
    "name": "ipython",
    "version": 3
   },
   "file_extension": ".py",
   "mimetype": "text/x-python",
   "name": "python",
   "nbconvert_exporter": "python",
   "pygments_lexer": "ipython3",
   "version": "3.9.23"
  }
 },
 "nbformat": 4,
 "nbformat_minor": 2
}
